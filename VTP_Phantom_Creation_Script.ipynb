{
 "cells": [
  {
   "cell_type": "markdown",
   "id": "97bced9c",
   "metadata": {},
   "source": [
    "## Phantom Creation"
   ]
  },
  {
   "cell_type": "code",
   "execution_count": 1,
   "id": "596c08c3",
   "metadata": {},
   "outputs": [],
   "source": [
    "import vtk"
   ]
  },
  {
   "cell_type": "code",
   "execution_count": 2,
   "id": "95147339",
   "metadata": {},
   "outputs": [],
   "source": [
    "from IPython.display import Image\n",
    "def vtk_show(renderer, width=400, height=300):\n",
    "    renderWindow = vtk.vtkRenderWindow()\n",
    "    renderWindow.SetOffScreenRendering(1)\n",
    "    renderWindow.AddRenderer(renderer)\n",
    "    renderWindow.SetSize(width, height)\n",
    "    renderWindow.Render()\n",
    "     \n",
    "    windowToImageFilter = vtk.vtkWindowToImageFilter()\n",
    "    windowToImageFilter.SetInput(renderWindow)\n",
    "    windowToImageFilter.Update()\n",
    "     \n",
    "    writer = vtk.vtkPNGWriter()\n",
    "    writer.SetWriteToMemory(1)\n",
    "    writer.SetInputConnection(windowToImageFilter.GetOutputPort())\n",
    "    writer.Write()\n",
    "    data = bytes(memoryview(writer.GetResult()))\n",
    "    \n",
    "    return Image(data)\n"
   ]
  },
  {
   "cell_type": "markdown",
   "id": "d7783580",
   "metadata": {},
   "source": [
    "## first phantom"
   ]
  },
  {
   "cell_type": "code",
   "execution_count": 3,
   "id": "6170f0eb",
   "metadata": {},
   "outputs": [
    {
     "name": "stdout",
     "output_type": "stream",
     "text": [
      "phantom0.vtp number of points =  24\n"
     ]
    }
   ],
   "source": [
    "cube = vtk.vtkCubeSource()\n",
    "cube.SetXLength(1)\n",
    "cube.SetYLength(1)\n",
    "cube.SetZLength(1)\n",
    "cube.SetCenter(0,0,0)\n",
    "cube.SetOutputPointsPrecision (100)\n",
    "cube.Update()\n",
    "print(\"phantom0.vtp number of points = \", cube.GetOutput().GetNumberOfPoints())\n",
    "writer = vtk.vtkXMLPolyDataWriter()\n",
    "writer.SetInputData(cube.GetOutput())\n",
    "writer.SetFileName('phantom0.vtp')\n",
    "writer.Update()"
   ]
  },
  {
   "cell_type": "markdown",
   "id": "82c67c70",
   "metadata": {},
   "source": [
    "## Second phantom\n"
   ]
  },
  {
   "cell_type": "code",
   "execution_count": 4,
   "id": "4c9df54b",
   "metadata": {},
   "outputs": [
    {
     "name": "stdout",
     "output_type": "stream",
     "text": [
      "phantom1.vtp number of points =  24\n"
     ]
    }
   ],
   "source": [
    "cube = vtk.vtkCubeSource()\n",
    "cube.SetXLength(5)\n",
    "cube.SetYLength(5)\n",
    "cube.SetZLength(5)\n",
    "cube.SetCenter(0,0,0)\n",
    "cube.SetOutputPointsPrecision (100)\n",
    "cube.Update()\n",
    "print(\"phantom1.vtp number of points = \", cube.GetOutput().GetNumberOfPoints())\n",
    "writer = vtk.vtkXMLPolyDataWriter()\n",
    "writer.SetInputData(cube.GetOutput())\n",
    "writer.SetFileName('phantom1.vtp')\n",
    "writer.Update()"
   ]
  },
  {
   "cell_type": "markdown",
   "id": "4675bc01",
   "metadata": {},
   "source": [
    "## Third phantom\n"
   ]
  },
  {
   "cell_type": "code",
   "execution_count": 5,
   "id": "8eb48422",
   "metadata": {},
   "outputs": [
    {
     "name": "stdout",
     "output_type": "stream",
     "text": [
      "phantom2.vtp number of points =  24\n"
     ]
    }
   ],
   "source": [
    "cube = vtk.vtkCubeSource()\n",
    "cube.SetXLength(1)\n",
    "cube.SetYLength(1)\n",
    "cube.SetZLength(1)\n",
    "cube.SetCenter(3,3,3)\n",
    "cube.Update()\n",
    "print(\"phantom2.vtp number of points = \", cube.GetOutput().GetNumberOfPoints())\n",
    "writer = vtk.vtkXMLPolyDataWriter()\n",
    "writer.SetInputData(cube.GetOutput())\n",
    "writer.SetFileName('phantom2.vtp')\n",
    "writer.Update()"
   ]
  },
  {
   "cell_type": "code",
   "execution_count": 6,
   "id": "e725b8eb",
   "metadata": {},
   "outputs": [
    {
     "name": "stdout",
     "output_type": "stream",
     "text": [
      "phantom3.vtp number of points =  24\n"
     ]
    }
   ],
   "source": [
    "cube = vtk.vtkCubeSource()\n",
    "cube.SetXLength(1)\n",
    "cube.SetYLength(5)\n",
    "cube.SetZLength(1)\n",
    "cube.SetCenter(3,3,3)\n",
    "cube.Update()\n",
    "print(\"phantom3.vtp number of points = \", cube.GetOutput().GetNumberOfPoints())\n",
    "writer = vtk.vtkXMLPolyDataWriter()\n",
    "writer.SetInputData(cube.GetOutput())\n",
    "writer.SetFileName('phantom3.vtp')\n",
    "writer.Update()"
   ]
  },
  {
   "cell_type": "code",
   "execution_count": 7,
   "id": "8fe03073",
   "metadata": {},
   "outputs": [
    {
     "name": "stdout",
     "output_type": "stream",
     "text": [
      "phantom4.vtp number of points =  9802\n"
     ]
    }
   ],
   "source": [
    "sphere = vtk.vtkSphereSource()\n",
    "sphere.SetRadius(1.0)\n",
    "sphere.SetCenter(0,0,0)\n",
    "sphere.SetThetaResolution(100)\n",
    "sphere.SetPhiResolution(100)\n",
    "sphere.Update()\n",
    "print(\"phantom4.vtp number of points = \", sphere.GetOutput().GetNumberOfPoints())\n",
    "writer = vtk.vtkXMLPolyDataWriter()\n",
    "writer.SetInputData(sphere.GetOutput())\n",
    "writer.SetFileName('phantom4.vtp')\n",
    "writer.Update()"
   ]
  },
  {
   "cell_type": "code",
   "execution_count": 8,
   "id": "0248978f",
   "metadata": {},
   "outputs": [
    {
     "name": "stdout",
     "output_type": "stream",
     "text": [
      "phantom5.vtp number of points =  9802\n"
     ]
    }
   ],
   "source": [
    "sphere = vtk.vtkSphereSource()\n",
    "sphere.SetRadius(1.00)\n",
    "sphere.SetCenter(0,0,100)\n",
    "sphere.SetThetaResolution(100)\n",
    "sphere.SetPhiResolution(100)\n",
    "sphere.Update()\n",
    "print(\"phantom5.vtp number of points = \", sphere.GetOutput().GetNumberOfPoints())\n",
    "writer = vtk.vtkXMLPolyDataWriter()\n",
    "writer.SetInputData(sphere.GetOutput())\n",
    "writer.SetFileName('phantom5.vtp')\n",
    "writer.Update()"
   ]
  },
  {
   "cell_type": "code",
   "execution_count": null,
   "id": "cab00a61",
   "metadata": {},
   "outputs": [],
   "source": []
  },
  {
   "cell_type": "code",
   "execution_count": null,
   "id": "8b6a2891",
   "metadata": {},
   "outputs": [],
   "source": []
  }
 ],
 "metadata": {
  "kernelspec": {
   "display_name": "Python 3 (ipykernel)",
   "language": "python",
   "name": "python3"
  },
  "language_info": {
   "codemirror_mode": {
    "name": "ipython",
    "version": 3
   },
   "file_extension": ".py",
   "mimetype": "text/x-python",
   "name": "python",
   "nbconvert_exporter": "python",
   "pygments_lexer": "ipython3",
   "version": "3.9.5"
  }
 },
 "nbformat": 4,
 "nbformat_minor": 5
}
